{
 "cells": [
  {
   "cell_type": "code",
   "execution_count": 1,
   "metadata": {
    "collapsed": true
   },
   "outputs": [],
   "source": [
    "import numpy as np\n",
    "import pandas as pd\n",
    "from sklearn.model_selection import train_test_split\n",
    "from sklearn.linear_model import SGDClassifier\n",
    "from sklearn.metrics import accuracy_score"
   ]
  },
  {
   "cell_type": "markdown",
   "metadata": {},
   "source": [
    "# Use o dataset do link (https://stats.idre.ucla.edu/stat/data/binary.csv) a seguir para aplicar sobre ele o gradiente descendente estocástico.\n",
    "\n",
    "## O label (target) do dataset é o atributo admit.\n",
    "\n",
    "## Use 70% do dados para treino e 30% para teste sem validação cruzada, mas com estratificação. "
   ]
  },
  {
   "cell_type": "code",
   "execution_count": 2,
   "metadata": {},
   "outputs": [
    {
     "data": {
      "text/html": [
       "<div>\n",
       "<style>\n",
       "    .dataframe thead tr:only-child th {\n",
       "        text-align: right;\n",
       "    }\n",
       "\n",
       "    .dataframe thead th {\n",
       "        text-align: left;\n",
       "    }\n",
       "\n",
       "    .dataframe tbody tr th {\n",
       "        vertical-align: top;\n",
       "    }\n",
       "</style>\n",
       "<table border=\"1\" class=\"dataframe\">\n",
       "  <thead>\n",
       "    <tr style=\"text-align: right;\">\n",
       "      <th></th>\n",
       "      <th>admit</th>\n",
       "      <th>gre</th>\n",
       "      <th>gpa</th>\n",
       "      <th>rank</th>\n",
       "    </tr>\n",
       "  </thead>\n",
       "  <tbody>\n",
       "    <tr>\n",
       "      <th>0</th>\n",
       "      <td>0</td>\n",
       "      <td>380</td>\n",
       "      <td>3.61</td>\n",
       "      <td>3</td>\n",
       "    </tr>\n",
       "    <tr>\n",
       "      <th>1</th>\n",
       "      <td>1</td>\n",
       "      <td>660</td>\n",
       "      <td>3.67</td>\n",
       "      <td>3</td>\n",
       "    </tr>\n",
       "    <tr>\n",
       "      <th>2</th>\n",
       "      <td>1</td>\n",
       "      <td>800</td>\n",
       "      <td>4.00</td>\n",
       "      <td>1</td>\n",
       "    </tr>\n",
       "    <tr>\n",
       "      <th>3</th>\n",
       "      <td>1</td>\n",
       "      <td>640</td>\n",
       "      <td>3.19</td>\n",
       "      <td>4</td>\n",
       "    </tr>\n",
       "    <tr>\n",
       "      <th>4</th>\n",
       "      <td>0</td>\n",
       "      <td>520</td>\n",
       "      <td>2.93</td>\n",
       "      <td>4</td>\n",
       "    </tr>\n",
       "  </tbody>\n",
       "</table>\n",
       "</div>"
      ],
      "text/plain": [
       "   admit  gre   gpa  rank\n",
       "0      0  380  3.61     3\n",
       "1      1  660  3.67     3\n",
       "2      1  800  4.00     1\n",
       "3      1  640  3.19     4\n",
       "4      0  520  2.93     4"
      ]
     },
     "execution_count": 2,
     "metadata": {},
     "output_type": "execute_result"
    }
   ],
   "source": [
    "data = pd.read_csv(\"datasets/binary.csv\")\n",
    "data.head()"
   ]
  },
  {
   "cell_type": "code",
   "execution_count": 3,
   "metadata": {},
   "outputs": [
    {
     "data": {
      "text/plain": [
       "((400, 3), (400,))"
      ]
     },
     "execution_count": 3,
     "metadata": {},
     "output_type": "execute_result"
    }
   ],
   "source": [
    "X = data.iloc[:,1:4].values\n",
    "y = data.iloc[:,0].values\n",
    "\n",
    "X.shape, y.shape"
   ]
  },
  {
   "cell_type": "code",
   "execution_count": 4,
   "metadata": {},
   "outputs": [
    {
     "data": {
      "text/plain": [
       "((280, 3), (280,), (120, 3), (120,))"
      ]
     },
     "execution_count": 4,
     "metadata": {},
     "output_type": "execute_result"
    }
   ],
   "source": [
    "X_train, X_test, y_train, y_test = train_test_split(X, y, test_size=0.3, random_state=0, stratify=y)\n",
    "\n",
    "X_train.shape, y_train.shape, X_test.shape, y_test.shape"
   ]
  },
  {
   "cell_type": "markdown",
   "metadata": {},
   "source": [
    "# Obtenha e compare os coeficientes (coef_ e intercept_) usando modelos com diferentes penalidades / regularizações:\n",
    "\n",
    "### Sem Regularização\n",
    "\n",
    "### Com Reguralização L1\n",
    "\n",
    "### Com Regularização L2\n",
    "\n",
    "### Com Regularização Elastic Net\n",
    "\n",
    "## Para os experimentos com Regularização, crie também modelos variando a força da regularização (alpha). Use alpha com os seguintes valores: 0.0001, 0.01, 1, 10, 100."
   ]
  },
  {
   "cell_type": "code",
   "execution_count": 5,
   "metadata": {},
   "outputs": [
    {
     "name": "stdout",
     "output_type": "stream",
     "text": [
      "Accuracy of SGD Classifier without regularization is 0.6833333333333333\n",
      "Intercept: [-134.32732549]\n",
      "Coef: [[-1451.67173823   -78.14081045 -1115.02957907]]\n"
     ]
    },
    {
     "name": "stderr",
     "output_type": "stream",
     "text": [
      "/home/rodmds/anaconda3/lib/python3.6/site-packages/sklearn/linear_model/stochastic_gradient.py:128: FutureWarning: max_iter and tol parameters have been added in <class 'sklearn.linear_model.stochastic_gradient.SGDClassifier'> in 0.19. If both are left unset, they default to max_iter=5 and tol=None. If tol is not None, max_iter defaults to max_iter=1000. From 0.21, default max_iter will be 1000, and default tol will be 1e-3.\n",
      "  \"and default tol will be 1e-3.\" % type(self), FutureWarning)\n"
     ]
    }
   ],
   "source": [
    "# Sem regularização\n",
    "\n",
    "model_SGD = SGDClassifier(penalty='none', random_state=0)\n",
    "model_SGD.fit(X_train, y_train)\n",
    "y_pred_sgd = model_SGD.predict(X_test)\n",
    "print(\"Accuracy of SGD Classifier without regularization is {}\".format(accuracy_score(y_test, y_pred_sgd)))\n",
    "print(\"Intercept: {}\\nCoef: {}\".format(model_SGD.intercept_, model_SGD.coef_))"
   ]
  },
  {
   "cell_type": "code",
   "execution_count": 6,
   "metadata": {
    "collapsed": true
   },
   "outputs": [],
   "source": [
    "alphas = [0.0001, 0.01, 1, 10, 100]"
   ]
  },
  {
   "cell_type": "code",
   "execution_count": 7,
   "metadata": {},
   "outputs": [
    {
     "name": "stdout",
     "output_type": "stream",
     "text": [
      "Accuracy of SGD Classifier with l1 regularization and alpha 0.0001 is 0.6833333333333333\n",
      "Intercept: [-134.32732549]\n",
      "Coef: [[-1450.79597776   -77.26504997 -1114.15381859]]\n",
      "\n",
      "Accuracy of SGD Classifier with l1 regularization and alpha 0.01 is 0.6833333333333333\n",
      "Intercept: [-3.95623582]\n",
      "Coef: [[-21.30973229   0.         -37.27943954]]\n",
      "\n",
      "Accuracy of SGD Classifier with l1 regularization and alpha 1 is 0.6833333333333333\n",
      "Intercept: [-0.36191896]\n",
      "Coef: [[-0.27501739  0.          0.        ]]\n",
      "\n",
      "Accuracy of SGD Classifier with l1 regularization and alpha 10 is 0.6833333333333333\n",
      "Intercept: [-0.37744003]\n",
      "Coef: [[-111.42702983    0.            0.        ]]\n",
      "\n",
      "Accuracy of SGD Classifier with l1 regularization and alpha 100 is 0.6833333333333333\n",
      "Intercept: [-0.29760467]\n",
      "Coef: [[-82.19093654   0.           0.        ]]\n",
      "\n"
     ]
    },
    {
     "name": "stderr",
     "output_type": "stream",
     "text": [
      "/home/rodmds/anaconda3/lib/python3.6/site-packages/sklearn/linear_model/stochastic_gradient.py:128: FutureWarning: max_iter and tol parameters have been added in <class 'sklearn.linear_model.stochastic_gradient.SGDClassifier'> in 0.19. If both are left unset, they default to max_iter=5 and tol=None. If tol is not None, max_iter defaults to max_iter=1000. From 0.21, default max_iter will be 1000, and default tol will be 1e-3.\n",
      "  \"and default tol will be 1e-3.\" % type(self), FutureWarning)\n"
     ]
    }
   ],
   "source": [
    "# With L1 regularization\n",
    "reg = 'l1'\n",
    "for alpha in alphas:\n",
    "    model_SGD_l1 = SGDClassifier(alpha=alpha, penalty=reg, random_state=0)\n",
    "    model_SGD_l1.fit(X_train, y_train)\n",
    "    y_pred_sgd = model_SGD_l1.predict(X_test)\n",
    "    print(\"Accuracy of SGD Classifier with {} regularization and alpha {} is {}\".format(reg, alpha, \n",
    "                                                                    accuracy_score(y_test, y_pred_sgd)))\n",
    "    print(\"Intercept: {}\\nCoef: {}\\n\".format(model_SGD_l1.intercept_, model_SGD_l1.coef_))"
   ]
  },
  {
   "cell_type": "code",
   "execution_count": 8,
   "metadata": {},
   "outputs": [
    {
     "name": "stdout",
     "output_type": "stream",
     "text": [
      "Accuracy of SGD Classifier with l2 regularization and alpha 0.0001 is 0.6833333333333333\n",
      "Intercept: [-129.33342876]\n",
      "Coef: [[-1167.15298041   -18.38265944  -696.12338474]]\n",
      "\n",
      "Accuracy of SGD Classifier with l2 regularization and alpha 0.01 is 0.6833333333333333\n",
      "Intercept: [-4.68050101]\n",
      "Coef: [[-19.57189586  -0.30825736 -11.67323789]]\n",
      "\n",
      "Accuracy of SGD Classifier with l2 regularization and alpha 1 is 0.6833333333333333\n",
      "Intercept: [-0.87391493]\n",
      "Coef: [[-0.2        -0.00513571 -0.12285714]]\n",
      "\n",
      "Accuracy of SGD Classifier with l2 regularization and alpha 10 is 0.6833333333333333\n",
      "Intercept: [-0.54714406]\n",
      "Coef: [[-0.02001175 -0.00039881 -0.01265029]]\n",
      "\n",
      "Accuracy of SGD Classifier with l2 regularization and alpha 100 is 0.6833333333333333\n",
      "Intercept: [-0.31482603]\n",
      "Coef: [[ -7.14780126e-04  -7.24072268e-05  -1.35808224e-03]]\n",
      "\n"
     ]
    },
    {
     "name": "stderr",
     "output_type": "stream",
     "text": [
      "/home/rodmds/anaconda3/lib/python3.6/site-packages/sklearn/linear_model/stochastic_gradient.py:128: FutureWarning: max_iter and tol parameters have been added in <class 'sklearn.linear_model.stochastic_gradient.SGDClassifier'> in 0.19. If both are left unset, they default to max_iter=5 and tol=None. If tol is not None, max_iter defaults to max_iter=1000. From 0.21, default max_iter will be 1000, and default tol will be 1e-3.\n",
      "  \"and default tol will be 1e-3.\" % type(self), FutureWarning)\n"
     ]
    }
   ],
   "source": [
    "# With L2 regularization\n",
    "reg = 'l2'\n",
    "for alpha in alphas:\n",
    "    model_SGD_l2 = SGDClassifier(alpha=alpha, penalty=reg, random_state=0)\n",
    "    model_SGD_l2.fit(X_train, y_train)\n",
    "    y_pred_sgd = model_SGD_l2.predict(X_test)\n",
    "    print(\"Accuracy of SGD Classifier with {} regularization and alpha {} is {}\".format(reg, alpha, \n",
    "                                                                        accuracy_score(y_test, y_pred_sgd)))\n",
    "    print(\"Intercept: {}\\nCoef: {}\\n\".format(model_SGD_l2.intercept_, model_SGD_l2.coef_))"
   ]
  },
  {
   "cell_type": "code",
   "execution_count": 9,
   "metadata": {},
   "outputs": [
    {
     "name": "stdout",
     "output_type": "stream",
     "text": [
      "Accuracy of SGD Classifier with elasticnet regularization and alpha 0.0001 is 0.6833333333333333\n",
      "Intercept: [-129.33342876]\n",
      "Coef: [[-1208.65708869   -21.0145582   -737.9810785 ]]\n",
      "\n",
      "Accuracy of SGD Classifier with elasticnet regularization and alpha 0.01 is 0.6833333333333333\n",
      "Intercept: [-4.74961164]\n",
      "Coef: [[ -7.28863392  -0.20039619 -13.81413965]]\n",
      "\n",
      "Accuracy of SGD Classifier with elasticnet regularization and alpha 1 is 0.6833333333333333\n",
      "Intercept: [-0.84642287]\n",
      "Coef: [[ 0.  0.  0.]]\n",
      "\n",
      "Accuracy of SGD Classifier with elasticnet regularization and alpha 10 is 0.6833333333333333\n",
      "Intercept: [-0.5403354]\n",
      "Coef: [[-0.01875404  0.          0.        ]]\n",
      "\n",
      "Accuracy of SGD Classifier with elasticnet regularization and alpha 100 is 0.6833333333333333\n",
      "Intercept: [-0.31226781]\n",
      "Coef: [[-0.00127551  0.          0.        ]]\n",
      "\n"
     ]
    },
    {
     "name": "stderr",
     "output_type": "stream",
     "text": [
      "/home/rodmds/anaconda3/lib/python3.6/site-packages/sklearn/linear_model/stochastic_gradient.py:128: FutureWarning: max_iter and tol parameters have been added in <class 'sklearn.linear_model.stochastic_gradient.SGDClassifier'> in 0.19. If both are left unset, they default to max_iter=5 and tol=None. If tol is not None, max_iter defaults to max_iter=1000. From 0.21, default max_iter will be 1000, and default tol will be 1e-3.\n",
      "  \"and default tol will be 1e-3.\" % type(self), FutureWarning)\n"
     ]
    }
   ],
   "source": [
    "# With Elastic net regularization\n",
    "reg = 'elasticnet'\n",
    "for alpha in alphas:\n",
    "    model_SGD_en = SGDClassifier(alpha=alpha, penalty=reg, random_state=0)\n",
    "    model_SGD_en.fit(X_train, y_train)\n",
    "    y_pred_sgd = model_SGD_en.predict(X_test)\n",
    "    print(\"Accuracy of SGD Classifier with {} regularization and alpha {} is {}\".format(reg, alpha, \n",
    "                                                                        accuracy_score(y_test, y_pred_sgd)))\n",
    "    print(\"Intercept: {}\\nCoef: {}\\n\".format(model_SGD_en.intercept_, model_SGD_en.coef_))"
   ]
  }
 ],
 "metadata": {
  "kernelspec": {
   "display_name": "Python 3",
   "language": "python",
   "name": "python3"
  },
  "language_info": {
   "codemirror_mode": {
    "name": "ipython",
    "version": 3
   },
   "file_extension": ".py",
   "mimetype": "text/x-python",
   "name": "python",
   "nbconvert_exporter": "python",
   "pygments_lexer": "ipython3",
   "version": "3.6.3"
  }
 },
 "nbformat": 4,
 "nbformat_minor": 2
}
