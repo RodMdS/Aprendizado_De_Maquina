{
 "cells": [
  {
   "cell_type": "code",
   "execution_count": 1,
   "metadata": {
    "collapsed": true
   },
   "outputs": [],
   "source": [
    "import numpy as np\n",
    "import pandas as pd\n",
    "from sklearn.model_selection import train_test_split\n",
    "from sklearn.linear_model import SGDClassifier\n",
    "from sklearn.metrics import accuracy_score"
   ]
  },
  {
   "cell_type": "markdown",
   "metadata": {},
   "source": [
    "# Use o dataset do link (https://stats.idre.ucla.edu/stat/data/binary.csv) a seguir para aplicar sobre ele o gradiente descendente estocástico.\n",
    "\n",
    "## O label (target) do dataset é o atributo admit.\n",
    "\n",
    "## Use 70% do dados para treino e 30% para teste sem validação cruzada, mas com estratificação. "
   ]
  },
  {
   "cell_type": "code",
   "execution_count": 2,
   "metadata": {},
   "outputs": [
    {
     "data": {
      "text/html": [
       "<div>\n",
       "<style>\n",
       "    .dataframe thead tr:only-child th {\n",
       "        text-align: right;\n",
       "    }\n",
       "\n",
       "    .dataframe thead th {\n",
       "        text-align: left;\n",
       "    }\n",
       "\n",
       "    .dataframe tbody tr th {\n",
       "        vertical-align: top;\n",
       "    }\n",
       "</style>\n",
       "<table border=\"1\" class=\"dataframe\">\n",
       "  <thead>\n",
       "    <tr style=\"text-align: right;\">\n",
       "      <th></th>\n",
       "      <th>admit</th>\n",
       "      <th>gre</th>\n",
       "      <th>gpa</th>\n",
       "      <th>rank</th>\n",
       "    </tr>\n",
       "  </thead>\n",
       "  <tbody>\n",
       "    <tr>\n",
       "      <th>0</th>\n",
       "      <td>0</td>\n",
       "      <td>380</td>\n",
       "      <td>3.61</td>\n",
       "      <td>3</td>\n",
       "    </tr>\n",
       "    <tr>\n",
       "      <th>1</th>\n",
       "      <td>1</td>\n",
       "      <td>660</td>\n",
       "      <td>3.67</td>\n",
       "      <td>3</td>\n",
       "    </tr>\n",
       "    <tr>\n",
       "      <th>2</th>\n",
       "      <td>1</td>\n",
       "      <td>800</td>\n",
       "      <td>4.00</td>\n",
       "      <td>1</td>\n",
       "    </tr>\n",
       "    <tr>\n",
       "      <th>3</th>\n",
       "      <td>1</td>\n",
       "      <td>640</td>\n",
       "      <td>3.19</td>\n",
       "      <td>4</td>\n",
       "    </tr>\n",
       "    <tr>\n",
       "      <th>4</th>\n",
       "      <td>0</td>\n",
       "      <td>520</td>\n",
       "      <td>2.93</td>\n",
       "      <td>4</td>\n",
       "    </tr>\n",
       "  </tbody>\n",
       "</table>\n",
       "</div>"
      ],
      "text/plain": [
       "   admit  gre   gpa  rank\n",
       "0      0  380  3.61     3\n",
       "1      1  660  3.67     3\n",
       "2      1  800  4.00     1\n",
       "3      1  640  3.19     4\n",
       "4      0  520  2.93     4"
      ]
     },
     "execution_count": 2,
     "metadata": {},
     "output_type": "execute_result"
    }
   ],
   "source": [
    "data = pd.read_csv(\"datasets/binary.csv\")\n",
    "data.head()"
   ]
  },
  {
   "cell_type": "code",
   "execution_count": 3,
   "metadata": {},
   "outputs": [
    {
     "data": {
      "text/plain": [
       "((400, 3), (400,))"
      ]
     },
     "execution_count": 3,
     "metadata": {},
     "output_type": "execute_result"
    }
   ],
   "source": [
    "X = data.iloc[:,1:4].values\n",
    "y = data.iloc[:,0].values\n",
    "\n",
    "X.shape, y.shape"
   ]
  },
  {
   "cell_type": "code",
   "execution_count": 4,
   "metadata": {},
   "outputs": [
    {
     "data": {
      "text/plain": [
       "((280, 3), (280,), (120, 3), (120,))"
      ]
     },
     "execution_count": 4,
     "metadata": {},
     "output_type": "execute_result"
    }
   ],
   "source": [
    "X_train, X_test, y_train, y_test = train_test_split(X, y, test_size=0.3, random_state=0, stratify=y)\n",
    "\n",
    "X_train.shape, y_train.shape, X_test.shape, y_test.shape"
   ]
  },
  {
   "cell_type": "markdown",
   "metadata": {},
   "source": [
    "# Obtenha e compare os coeficientes (coef_ e intercept_) usando modelos com diferentes penalidades / regularizações:\n",
    "\n",
    "### Sem Regularização\n",
    "\n",
    "### Com Reguralização L1\n",
    "\n",
    "### Com Regularização L2\n",
    "\n",
    "### Com Regularização Elastic Net\n",
    "\n",
    "## Para os experimentos com Regularização, crie também modelos variando a força da regularização (alpha). Use alpha com os seguintes valores: 0.0001, 0.01, 1, 10, 100."
   ]
  },
  {
   "cell_type": "code",
   "execution_count": 5,
   "metadata": {},
   "outputs": [
    {
     "name": "stdout",
     "output_type": "stream",
     "text": [
      "Accuracy of SGD Classifier without regularization is 0.6833333333333333\n",
      "Intercept: [-93.83309801]\n",
      "Coef: [[-1662.09211855    -9.34804635  -810.57328687]]\n"
     ]
    },
    {
     "name": "stderr",
     "output_type": "stream",
     "text": [
      "/home/rodmds/anaconda3/lib/python3.6/site-packages/sklearn/linear_model/stochastic_gradient.py:128: FutureWarning: max_iter and tol parameters have been added in <class 'sklearn.linear_model.stochastic_gradient.SGDClassifier'> in 0.19. If both are left unset, they default to max_iter=5 and tol=None. If tol is not None, max_iter defaults to max_iter=1000. From 0.21, default max_iter will be 1000, and default tol will be 1e-3.\n",
      "  \"and default tol will be 1e-3.\" % type(self), FutureWarning)\n"
     ]
    }
   ],
   "source": [
    "# Sem regularização\n",
    "\n",
    "model_SGD = SGDClassifier(penalty='none')\n",
    "model_SGD.fit(X_train, y_train)\n",
    "y_pred_sgd = model_SGD.predict(X_test)\n",
    "print(\"Accuracy of SGD Classifier without regularization is {}\".format(accuracy_score(y_test, y_pred_sgd)))\n",
    "print(\"Intercept: {}\\nCoef: {}\".format(model_SGD.intercept_, model_SGD.coef_))"
   ]
  },
  {
   "cell_type": "code",
   "execution_count": 6,
   "metadata": {
    "collapsed": true
   },
   "outputs": [],
   "source": [
    "alphas = [0.0001, 0.01, 1, 10, 100]"
   ]
  },
  {
   "cell_type": "code",
   "execution_count": 7,
   "metadata": {},
   "outputs": [
    {
     "name": "stdout",
     "output_type": "stream",
     "text": [
      "Accuracy of SGD Classifier with l1 regularization and alpha 0.0001 is 0.6833333333333333\n",
      "Intercept: [-139.32431015]\n",
      "Coef: [[-1873.00093679  -126.54104984 -1193.48048968]]\n",
      "\n",
      "Accuracy of SGD Classifier with l1 regularization and alpha 0.01 is 0.31666666666666665\n",
      "Intercept: [-6.50819339]\n",
      "Coef: [[ 35.96800442  -1.32670857 -59.26372377]]\n",
      "\n",
      "Accuracy of SGD Classifier with l1 regularization and alpha 1 is 0.6833333333333333\n",
      "Intercept: [-0.77793752]\n",
      "Coef: [[ 0.  0.  0.]]\n",
      "\n",
      "Accuracy of SGD Classifier with l1 regularization and alpha 10 is 0.6833333333333333\n",
      "Intercept: [-0.33721861]\n",
      "Coef: [[-182.47645721    0.            0.        ]]\n",
      "\n",
      "Accuracy of SGD Classifier with l1 regularization and alpha 100 is 0.6833333333333333\n",
      "Intercept: [-0.28230763]\n",
      "Coef: [[-115.74499256    0.            0.        ]]\n",
      "\n"
     ]
    },
    {
     "name": "stderr",
     "output_type": "stream",
     "text": [
      "/home/rodmds/anaconda3/lib/python3.6/site-packages/sklearn/linear_model/stochastic_gradient.py:128: FutureWarning: max_iter and tol parameters have been added in <class 'sklearn.linear_model.stochastic_gradient.SGDClassifier'> in 0.19. If both are left unset, they default to max_iter=5 and tol=None. If tol is not None, max_iter defaults to max_iter=1000. From 0.21, default max_iter will be 1000, and default tol will be 1e-3.\n",
      "  \"and default tol will be 1e-3.\" % type(self), FutureWarning)\n"
     ]
    }
   ],
   "source": [
    "# With L1 regularization\n",
    "reg = 'l1'\n",
    "for alpha in alphas:\n",
    "    model_SGD = SGDClassifier(alpha=alpha, penalty=reg)\n",
    "    model_SGD.fit(X_train, y_train)\n",
    "    y_pred_sgd = model_SGD.predict(X_test)\n",
    "    print(\"Accuracy of SGD Classifier with {} regularization and alpha {} is {}\".format(reg, alpha, \n",
    "                                                                    accuracy_score(y_test, y_pred_sgd)))\n",
    "    print(\"Intercept: {}\\nCoef: {}\\n\".format(model_SGD.intercept_, model_SGD.coef_))"
   ]
  },
  {
   "cell_type": "code",
   "execution_count": 8,
   "metadata": {},
   "outputs": [
    {
     "name": "stdout",
     "output_type": "stream",
     "text": [
      "Accuracy of SGD Classifier with l2 regularization and alpha 0.0001 is 0.6833333333333333\n",
      "Intercept: [-114.95549274]\n",
      "Coef: [[-1250.52105044   -32.38849521  -637.76573572]]\n",
      "\n",
      "Accuracy of SGD Classifier with l2 regularization and alpha 0.01 is 0.6833333333333333\n",
      "Intercept: [-5.71027867]\n",
      "Coef: [[-25.16386611   1.09113319 -11.18394049]]\n",
      "\n",
      "Accuracy of SGD Classifier with l2 regularization and alpha 1 is 0.6833333333333333\n",
      "Intercept: [-0.40126014]\n",
      "Coef: [[-0.12857143 -0.00817857 -0.13285714]]\n",
      "\n",
      "Accuracy of SGD Classifier with l2 regularization and alpha 10 is 0.6833333333333333\n",
      "Intercept: [-0.54509084]\n",
      "Coef: [[-0.03716468 -0.00154162 -0.0111494 ]]\n",
      "\n",
      "Accuracy of SGD Classifier with l2 regularization and alpha 100 is 0.6833333333333333\n",
      "Intercept: [-0.30762959]\n",
      "Coef: [[-0.0012866  -0.00010057 -0.00126516]]\n",
      "\n"
     ]
    },
    {
     "name": "stderr",
     "output_type": "stream",
     "text": [
      "/home/rodmds/anaconda3/lib/python3.6/site-packages/sklearn/linear_model/stochastic_gradient.py:128: FutureWarning: max_iter and tol parameters have been added in <class 'sklearn.linear_model.stochastic_gradient.SGDClassifier'> in 0.19. If both are left unset, they default to max_iter=5 and tol=None. If tol is not None, max_iter defaults to max_iter=1000. From 0.21, default max_iter will be 1000, and default tol will be 1e-3.\n",
      "  \"and default tol will be 1e-3.\" % type(self), FutureWarning)\n"
     ]
    }
   ],
   "source": [
    "# With L2 regularization\n",
    "reg = 'l2'\n",
    "for alpha in alphas:\n",
    "    model_SGD = SGDClassifier(alpha=alpha, penalty=reg)\n",
    "    model_SGD.fit(X_train, y_train)\n",
    "    y_pred_sgd = model_SGD.predict(X_test)\n",
    "    print(\"Accuracy of SGD Classifier with {} regularization and alpha {} is {}\".format(reg, alpha, \n",
    "                                                                        accuracy_score(y_test, y_pred_sgd)))\n",
    "    print(\"Intercept: {}\\nCoef: {}\\n\".format(model_SGD.intercept_, model_SGD.coef_))"
   ]
  },
  {
   "cell_type": "code",
   "execution_count": 9,
   "metadata": {},
   "outputs": [
    {
     "name": "stdout",
     "output_type": "stream",
     "text": [
      "Accuracy of SGD Classifier with elasticnet regularization and alpha 0.0001 is 0.31666666666666665\n",
      "Intercept: [-99.55692133]\n",
      "Coef: [[ 1373.23465963    17.57679611  -677.80835653]]\n",
      "\n",
      "Accuracy of SGD Classifier with elasticnet regularization and alpha 0.01 is 0.6833333333333333\n",
      "Intercept: [-3.28679772]\n",
      "Coef: [[-26.97863352  -2.11623453 -14.0481075 ]]\n",
      "\n",
      "Accuracy of SGD Classifier with elasticnet regularization and alpha 1 is 0.6833333333333333\n",
      "Intercept: [ 0.42049652]\n",
      "Coef: [[-0.49760838  0.          0.        ]]\n",
      "\n",
      "Accuracy of SGD Classifier with elasticnet regularization and alpha 10 is 0.31666666666666665\n",
      "Intercept: [ 0.39798171]\n",
      "Coef: [[ 0.  0.  0.]]\n",
      "\n",
      "Accuracy of SGD Classifier with elasticnet regularization and alpha 100 is 0.31666666666666665\n",
      "Intercept: [ 0.28876672]\n",
      "Coef: [[ 0.  0.  0.]]\n",
      "\n"
     ]
    },
    {
     "name": "stderr",
     "output_type": "stream",
     "text": [
      "/home/rodmds/anaconda3/lib/python3.6/site-packages/sklearn/linear_model/stochastic_gradient.py:128: FutureWarning: max_iter and tol parameters have been added in <class 'sklearn.linear_model.stochastic_gradient.SGDClassifier'> in 0.19. If both are left unset, they default to max_iter=5 and tol=None. If tol is not None, max_iter defaults to max_iter=1000. From 0.21, default max_iter will be 1000, and default tol will be 1e-3.\n",
      "  \"and default tol will be 1e-3.\" % type(self), FutureWarning)\n"
     ]
    }
   ],
   "source": [
    "# With Elastic net regularization\n",
    "reg = 'elasticnet'\n",
    "for alpha in alphas:\n",
    "    model_SGD = SGDClassifier(alpha=alpha, penalty=reg)\n",
    "    model_SGD.fit(X_train, y_train)\n",
    "    y_pred_sgd = model_SGD.predict(X_test)\n",
    "    print(\"Accuracy of SGD Classifier with {} regularization and alpha {} is {}\".format(reg, alpha, \n",
    "                                                                        accuracy_score(y_test, y_pred_sgd)))\n",
    "    print(\"Intercept: {}\\nCoef: {}\\n\".format(model_SGD.intercept_, model_SGD.coef_))"
   ]
  }
 ],
 "metadata": {
  "kernelspec": {
   "display_name": "Python 3",
   "language": "python",
   "name": "python3"
  },
  "language_info": {
   "codemirror_mode": {
    "name": "ipython",
    "version": 3
   },
   "file_extension": ".py",
   "mimetype": "text/x-python",
   "name": "python",
   "nbconvert_exporter": "python",
   "pygments_lexer": "ipython3",
   "version": "3.6.3"
  }
 },
 "nbformat": 4,
 "nbformat_minor": 2
}
