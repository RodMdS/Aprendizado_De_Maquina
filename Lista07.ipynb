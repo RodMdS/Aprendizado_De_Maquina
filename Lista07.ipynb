{
 "cells": [
  {
   "cell_type": "code",
   "execution_count": 1,
   "metadata": {
    "collapsed": true
   },
   "outputs": [],
   "source": [
    "%matplotlib inline\n",
    "import warnings\n",
    "warnings.filterwarnings(\"ignore\")\n",
    "import numpy as np\n",
    "from numpy import sqrt\n",
    "from itertools import cycle\n",
    "from matplotlib import pyplot as plt\n",
    "import matplotlib.pyplot as plt\n",
    "plt.rcParams['legend.fontsize'] = 12\n",
    "from sklearn.datasets import load_boston, load_breast_cancer\n",
    "from sklearn.model_selection import KFold\n",
    "from sklearn import preprocessing, svm, metrics as m\n",
    "from sklearn.naive_bayes import GaussianNB\n",
    "from sklearn.neighbors import KNeighborsRegressor, KNeighborsClassifier\n",
    "from sklearn.linear_model import LinearRegression, SGDRegressor, LogisticRegression"
   ]
  },
  {
   "cell_type": "markdown",
   "metadata": {},
   "source": [
    "# 1. Use K-Fold Cross Validation com k = 5 para resolver os seguintes problemas de machine learning: "
   ]
  },
  {
   "cell_type": "markdown",
   "metadata": {},
   "source": [
    "Regressão\n",
    "\n",
    "    Dataset: boston house-prices dataset\n",
    "    \n",
    "    Aplicar Standardization nas features.\n",
    "    \n",
    "    Comparar os resultados dos seguintes algoritmos: Gradient Descent, Linear Regression, kNN, Naive Bayes, SVM\n",
    "    \n",
    "    Usar as seguintes métricas: RMSE, MAE\n",
    "    \n",
    "    Escolher a melhor técnica e criar um modelo final usando todo o dataset para treinar o modelo."
   ]
  },
  {
   "cell_type": "code",
   "execution_count": 2,
   "metadata": {
    "collapsed": true
   },
   "outputs": [],
   "source": [
    "X_boston, y_boston = load_boston(return_X_y=True)\n",
    "\n",
    "#print(X_boston)\n",
    "#print(y_boston)\n",
    "\n",
    "train = KFold(n_splits=5, shuffle=True, random_state=42)\n",
    "train.get_n_splits(X_boston, y_boston)\n",
    "\n",
    "#print(train)\n",
    "\n",
    "for train_index, test_index in train.split(X_boston, y_boston):\n",
    "    #print(\"TRAIN:\", train_index, \"TEST:\", test_index)\n",
    "    X_train, X_test = X_boston[train_index], X_boston[test_index]\n",
    "    y_train, y_test = y_boston[train_index], y_boston[test_index]\n",
    "    \n",
    "std_scale = preprocessing.StandardScaler().fit(X_train, y_train)\n",
    "\n",
    "X_train_std = std_scale.transform(X_train)\n",
    "X_test_std = std_scale.transform(X_test)"
   ]
  },
  {
   "cell_type": "code",
   "execution_count": 3,
   "metadata": {
    "collapsed": true
   },
   "outputs": [],
   "source": [
    "# Gradient Descent\n",
    "sgd = SGDRegressor().fit(X_train_std, y_train)\n",
    "y_pred_sgd = sgd.predict(X_test_std)\n",
    "rmse_sgd = sqrt(m.mean_squared_error(y_test, y_pred_sgd))\n",
    "mae_sgd = m.mean_absolute_error(y_test, y_pred_sgd)\n",
    "\n",
    "# Linear Regression\n",
    "lr = LinearRegression().fit(X_train_std, y_train)\n",
    "y_pred_lr = lr.predict(X_test_std)\n",
    "rmse_lr = sqrt(m.mean_squared_error(y_test, y_pred_lr))\n",
    "mae_lr = m.mean_absolute_error(y_test, y_pred_lr)\n",
    "\n",
    "#KNN Regressor\n",
    "knnR = KNeighborsRegressor().fit(X_train_std, y_train)\n",
    "y_pred_knnR = knnR.predict(X_test_std)\n",
    "rmse_knnR = sqrt(m.mean_squared_error(y_test, y_pred_knnR))\n",
    "mae_knnR = m.mean_absolute_error(y_test, y_pred_knnR)\n",
    "\n",
    "#Naive Bayes\n",
    "#gnb = GaussianNB().fit(X_train_std, y_train)\n",
    "\n",
    "#SVM\n",
    "svr = svm.SVR(kernel='linear', C=1, gamma='auto').fit(X_train_std, y_train)\n",
    "y_pred_svr = svr.predict(X_test_std)\n",
    "rmse_svr = sqrt(m.mean_squared_error(y_test, y_pred_svr))\n",
    "mae_svr = m.mean_absolute_error(y_test, y_pred_svr)\n",
    "\n",
    "#print(\"Gradient Descent: MSE = {} and RMSE = {}\".format(mse_sgd, mse_sgd ** 1/2))\n",
    "#print(\"Linear Regression: MSE = {} and RMSE = {}\".format(mse_lr, mse_lr ** 1/2))\n",
    "#print(\"KNN Regressor: MSE = {} and RMSE = {}\".format(mse_knnR, mse_knnR ** 1/2))\n",
    "#print(\"E-S V Regression: MSE = {} and RMSE = {}\".format(mse_svr, mse_svr ** 1/2))"
   ]
  },
  {
   "cell_type": "code",
   "execution_count": 4,
   "metadata": {},
   "outputs": [
    {
     "name": "stdout",
     "output_type": "stream",
     "text": [
      "SGD: RMSE = 4.67528091812 - MAE = 2.98492426108\n",
      "LR: RMSE = 4.74344207319 - MAE = 3.18797688188\n",
      "KnnR: RMSE = 4.71944744207 - MAE = 2.8900990099\n",
      "SVR: RMSE = 4.79653906067 - MAE = 2.84638466812\n"
     ]
    }
   ],
   "source": [
    "class_names = ['SGD','LR','KnnR','SVR']\n",
    "class_ = [rmse_sgd, rmse_lr, rmse_knnR, rmse_svr]\n",
    "class_1 = [mae_sgd, mae_lr, mae_knnR, mae_svr]\n",
    "for i in range(0,len(class_names)):\n",
    "    print(class_names[i] + ': RMSE = ' + str(class_[i]) + ' - MAE = ' + str(class_1[i]))"
   ]
  },
  {
   "cell_type": "code",
   "execution_count": 5,
   "metadata": {},
   "outputs": [
    {
     "data": {
      "text/plain": [
       "<matplotlib.legend.Legend at 0x7fa4ab16ed30>"
      ]
     },
     "execution_count": 5,
     "metadata": {},
     "output_type": "execute_result"
    },
    {
     "data": {
      "image/png": "[encoded data removed]",
      "text/plain": [
       "<matplotlib.figure.Figure at 0x7fa4b338fe80>"
      ]
     },
     "metadata": {},
     "output_type": "display_data"
    }
   ],
   "source": [
    "grupos = len(class_names)\n",
    "indice = np.arange(grupos)\n",
    "bar_larg = 0.2\n",
    "transp = 0.7\n",
    "\n",
    "plt.grid()\n",
    "plt.bar(indice, class_, bar_larg, alpha=transp, color='pink', label='rmse')\n",
    "plt.bar(indice + bar_larg, class_1, bar_larg, alpha=transp, color='purple', label='mae')\n",
    "\n",
    "plt.xticks(indice + bar_larg / 2, class_names)\n",
    "plt.legend()"
   ]
  },
  {
   "cell_type": "code",
   "execution_count": 6,
   "metadata": {},
   "outputs": [
    {
     "data": {
      "text/plain": [
       "SGDRegressor(alpha=0.0001, average=False, epsilon=0.1, eta0=0.01,\n",
       "       fit_intercept=True, l1_ratio=0.15, learning_rate='invscaling',\n",
       "       loss='squared_loss', max_iter=None, n_iter=None, penalty='l2',\n",
       "       power_t=0.25, random_state=None, shuffle=True, tol=None, verbose=0,\n",
       "       warm_start=False)"
      ]
     },
     "execution_count": 6,
     "metadata": {},
     "output_type": "execute_result"
    }
   ],
   "source": [
    "# COMO SGD FOI MELHOR\n",
    "SGD_final = SGDRegressor().fit(X_boston, y_boston)\n",
    "SGD_final"
   ]
  },
  {
   "cell_type": "markdown",
   "metadata": {},
   "source": [
    "Classificação\n",
    "\n",
    "    Dataset: breast cancer wisconsin dataset\n",
    "    \n",
    "    Aplicar Normalization nas features.\n",
    "    \n",
    "    Comparar os resultados dos seguintes algoritmos: Logistic Regression, kNN, Naive Bayes, SVM\n",
    "    \n",
    "    Mostrar a matriz de confusão\n",
    "    \n",
    "    Usar as seguintes métricas: Accuracy, Precision, Recall, F1-Measure, AOC\n",
    "    \n",
    "    Plotar curva ROC dos diferentes algoritmos.\n",
    "    \n",
    "    Escolher a melhor técnica e criar um modelo final usando todo o dataset para treinar o modelo."
   ]
  },
  {
   "cell_type": "code",
   "execution_count": 7,
   "metadata": {
    "collapsed": true
   },
   "outputs": [],
   "source": [
    "X_cancer, y_cancer = load_breast_cancer(return_X_y=True)\n",
    "\n",
    "#print(X_cancer)\n",
    "#print(y_cancer)\n",
    "\n",
    "train = KFold(n_splits=5, shuffle=True, random_state=42)\n",
    "train.get_n_splits(X_cancer, y_cancer)\n",
    "\n",
    "for train_index, test_index in train.split(X_cancer, y_cancer):\n",
    "    #print(\"TRAIN:\", train_index, \"TEST:\", test_index)\n",
    "    X_train2, X_test2 = X_cancer[train_index], X_cancer[test_index]\n",
    "    y_train2, y_test2 = y_cancer[train_index], y_cancer[test_index]\n",
    "    \n",
    "norm_scale = preprocessing.MinMaxScaler().fit(X_train2, y_train2)\n",
    "\n",
    "X_train2_norm = norm_scale.transform(X_train2)\n",
    "X_test2_norm = norm_scale.transform(X_test2)"
   ]
  },
  {
   "cell_type": "code",
   "execution_count": 8,
   "metadata": {},
   "outputs": [
    {
     "name": "stdout",
     "output_type": "stream",
     "text": [
      "Logistic Regression\n",
      "[[39  7]\n",
      " [ 0 67]]\n",
      "\n",
      "KNN Classifier\n",
      "[[40  6]\n",
      " [ 1 66]]\n",
      "\n",
      "Naive Bayes\n",
      "[[40  6]\n",
      " [ 2 65]]\n",
      "\n",
      "C-Support Vector Classification\n",
      "[[43  3]\n",
      " [ 0 67]]\n",
      "\n"
     ]
    }
   ],
   "source": [
    "# Logistic Regression\n",
    "logR = LogisticRegression().fit(X_train2_norm, y_train2)\n",
    "y_pred_logR = logR.predict(X_test2_norm)\n",
    "acc_logR = m.accuracy_score(y_test2, y_pred_logR)\n",
    "pre_logR = m.precision_score(y_test2, y_pred_logR)\n",
    "rec_logR = m.recall_score(y_test2, y_pred_logR)\n",
    "f1_logR = m.f1_score(y_test2, y_pred_logR)\n",
    "print(\"Logistic Regression\")\n",
    "print(m.confusion_matrix(y_test2, y_pred_logR))\n",
    "print(\"\")\n",
    "\n",
    "#KNN Classifier\n",
    "knnC = KNeighborsClassifier().fit(X_train2_norm, y_train2)\n",
    "y_pred_knnC = knnC.predict(X_test2_norm)\n",
    "acc_knnC = m.accuracy_score(y_test2, y_pred_knnC)\n",
    "pre_knnC = m.precision_score(y_test2, y_pred_knnC)\n",
    "rec_knnC = m.recall_score(y_test2, y_pred_knnC)\n",
    "f1_knnC = m.f1_score(y_test2, y_pred_knnC)\n",
    "print(\"KNN Classifier\")\n",
    "print(m.confusion_matrix(y_test2, y_pred_knnC))\n",
    "print(\"\")\n",
    "\n",
    "#Naive Bayes\n",
    "gnb = GaussianNB().fit(X_train2_norm, y_train2)\n",
    "y_pred_gnb = gnb.predict(X_test2_norm)\n",
    "acc_gnb = m.accuracy_score(y_test2, y_pred_gnb)\n",
    "pre_gnb = m.precision_score(y_test2, y_pred_gnb)\n",
    "rec_gnb = m.recall_score(y_test2, y_pred_gnb)\n",
    "f1_gnb = m.f1_score(y_test2, y_pred_gnb)\n",
    "print(\"Naive Bayes\")\n",
    "print(m.confusion_matrix(y_test2, y_pred_gnb))\n",
    "print(\"\")\n",
    "\n",
    "#SVM\n",
    "svc = svm.SVC(kernel='linear', C=1, gamma='auto').fit(X_train2_norm, y_train2)\n",
    "y_pred_svc = svc.predict(X_test2_norm)\n",
    "acc_svc = m.accuracy_score(y_test2, y_pred_svc)\n",
    "pre_svc = m.precision_score(y_test2, y_pred_svc)\n",
    "rec_svc = m.recall_score(y_test2, y_pred_svc)\n",
    "f1_svc = m.f1_score(y_test2, y_pred_svc)\n",
    "print(\"C-Support Vector Classification\")\n",
    "print(m.confusion_matrix(y_test2, y_pred_svc))\n",
    "print(\"\")"
   ]
  },
  {
   "cell_type": "code",
   "execution_count": 9,
   "metadata": {},
   "outputs": [
    {
     "name": "stdout",
     "output_type": "stream",
     "text": [
      "LogR: ACC = 0.938053097345 - PRE = 0.905405405405 - REC = 1.0 - F1 = 0.950354609929\n",
      "KnnC: ACC = 0.938053097345 - PRE = 0.916666666667 - REC = 0.985074626866 - F1 = 0.94964028777\n",
      "GNB: ACC = 0.929203539823 - PRE = 0.915492957746 - REC = 0.970149253731 - F1 = 0.942028985507\n",
      "SVC: ACC = 0.973451327434 - PRE = 0.957142857143 - REC = 1.0 - F1 = 0.978102189781\n"
     ]
    }
   ],
   "source": [
    "class_names2 = ['LogR','KnnC','GNB','SVC']\n",
    "class2_ = [acc_logR, acc_knnC, acc_gnb, acc_svc]\n",
    "class2_1 = [pre_logR, pre_knnC, pre_gnb, pre_svc]\n",
    "class2_2 = [rec_logR, rec_knnC, rec_gnb, rec_svc]\n",
    "class2_3 = [f1_logR, f1_knnC, f1_gnb, f1_svc]\n",
    "for i in range(len(class_names2)):\n",
    "    print(class_names2[i] + ': ACC = ' + str(class2_[i]) + ' - PRE = ' + str(class2_1[i])  \n",
    "          + ' - REC = ' + str(class2_2[i]) + ' - F1 = ' + str(class2_3[i]))"
   ]
  },
  {
   "cell_type": "code",
   "execution_count": 10,
   "metadata": {},
   "outputs": [
    {
     "data": {
      "text/plain": [
       "<matplotlib.legend.Legend at 0x7fa4ab07e550>"
      ]
     },
     "execution_count": 10,
     "metadata": {},
     "output_type": "execute_result"
    },
    {
     "data": {
      "image/png": "[encoded data removed]",
      "text/plain": [
       "<matplotlib.figure.Figure at 0x7fa4ab07e5c0>"
      ]
     },
     "metadata": {},
     "output_type": "display_data"
    }
   ],
   "source": [
    "grupos = len(class_names2)\n",
    "indice = np.arange(grupos)\n",
    "bar_larg = 0.2\n",
    "transp = 0.7\n",
    "\n",
    "plt.grid()\n",
    "plt.bar(indice, class2_, bar_larg, alpha=transp, color='gold', label='acc')\n",
    "indice = indice + bar_larg\n",
    "plt.bar(indice, class2_1, bar_larg, alpha=transp, color='purple', label='pre')\n",
    "indice = indice + bar_larg\n",
    "plt.bar(indice, class2_2, bar_larg, alpha=transp, color='orange', label='rec')\n",
    "indice = indice + bar_larg\n",
    "plt.bar(indice, class2_3, bar_larg, alpha=transp, color='pink', label='f1')\n",
    "\n",
    "plt.xticks(indice - bar_larg * 3/2, class_names2)\n",
    "plt.legend()"
   ]
  },
  {
   "cell_type": "code",
   "execution_count": 11,
   "metadata": {},
   "outputs": [
    {
     "data": {
      "image/png": "[encoded data removed]",
      "text/plain": [
       "<matplotlib.figure.Figure at 0x7fa4ab01d128>"
      ]
     },
     "metadata": {},
     "output_type": "display_data"
    }
   ],
   "source": [
    "fpr = []\n",
    "tpr = []\n",
    "roc_auc = []\n",
    "\n",
    "fpr1, tpr1, _ = m.roc_curve(y_test2, y_pred_logR)\n",
    "fpr.append(fpr1)\n",
    "tpr.append(tpr1)\n",
    "roc_auc.append(m.auc(fpr1, tpr1))\n",
    "\n",
    "fpr1, tpr1, _ = m.roc_curve(y_test2, y_pred_knnC)\n",
    "fpr.append(fpr1)\n",
    "tpr.append(tpr1)\n",
    "roc_auc.append(m.auc(fpr1, tpr1))\n",
    "\n",
    "fpr1, tpr1, _ = m.roc_curve(y_test2, y_pred_gnb)\n",
    "fpr.append(fpr1)\n",
    "tpr.append(tpr1)\n",
    "roc_auc.append(m.auc(fpr1, tpr1))\n",
    "\n",
    "fpr1, tpr1, _ = m.roc_curve(y_test2, y_pred_svc)\n",
    "fpr.append(fpr1)\n",
    "tpr.append(tpr1)\n",
    "roc_auc.append(m.auc(fpr1, tpr1))\n",
    "\n",
    "#Plotar curva ROC dos diferentes algoritmos\n",
    "\n",
    "plt.figure()\n",
    "lw = 2\n",
    "\n",
    "colors = cycle(['gold', 'purple', 'orange', 'pink'])\n",
    "for i, color in zip(range(len(class_names2)), colors):\n",
    "    plt.plot(fpr[i], tpr[i], color=color, lw=lw,\n",
    "             label='ROC curve of ' + class_names2[i] + ' algorithm (area = {1:0.2f})'.format(i, roc_auc[i]))\n",
    "\n",
    "plt.plot([0, 1], [0, 1], color='navy', lw=lw, linestyle='--')\n",
    "plt.xlim([0.0, 1.0])\n",
    "plt.ylim([0.0, 1.0])\n",
    "plt.xlabel('False Positive Rate')\n",
    "plt.ylabel('True Positive Rate')\n",
    "plt.title('Receiver operating characteristic')\n",
    "plt.legend(loc=\"lower right\")\n",
    "plt.show()"
   ]
  },
  {
   "cell_type": "code",
   "execution_count": 12,
   "metadata": {},
   "outputs": [
    {
     "data": {
      "text/plain": [
       "SVC(C=1.0, cache_size=200, class_weight=None, coef0=0.0,\n",
       "  decision_function_shape='ovr', degree=3, gamma='auto', kernel='rbf',\n",
       "  max_iter=-1, probability=False, random_state=None, shrinking=True,\n",
       "  tol=0.001, verbose=False)"
      ]
     },
     "execution_count": 12,
     "metadata": {},
     "output_type": "execute_result"
    }
   ],
   "source": [
    "svc_final = svm.SVC().fit(X_cancer, y_cancer)\n",
    "svc_final"
   ]
  },
  {
   "cell_type": "markdown",
   "metadata": {},
   "source": [
    "Preencha seus resultados de RMSE (para o problema de regressão) e Accuracy (para o problema de classificação) na seguinte planilha online (https://docs.google.com/spreadsheets/d/1Zkm8q3uvkL-vCpiG2M-_s-K3j_3XK8zFLDZrtTqPImk/edit#gid=0). \n",
    "\n",
    "Nossa primeira competiçãozinha interna!!! Tentem melhorar os resultados."
   ]
  }
 ],
 "metadata": {
  "kernelspec": {
   "display_name": "Python 3",
   "language": "python",
   "name": "python3"
  },
  "language_info": {
   "codemirror_mode": {
    "name": "ipython",
    "version": 3
   },
   "file_extension": ".py",
   "mimetype": "text/x-python",
   "name": "python",
   "nbconvert_exporter": "python",
   "pygments_lexer": "ipython3",
   "version": "3.6.3"
  }
 },
 "nbformat": 4,
 "nbformat_minor": 2
}
