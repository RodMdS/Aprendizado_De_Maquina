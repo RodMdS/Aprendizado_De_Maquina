{
 "cells": [
  {
   "cell_type": "markdown",
   "metadata": {},
   "source": [
    "# Revisão para a Prova: \n",
    "\n",
    "## Refazer a Lista 7 + Lista 11 (Somente para estudo, assim não precisa entregar novamente)"
   ]
  },
  {
   "cell_type": "code",
   "execution_count": 1,
   "metadata": {
    "collapsed": true
   },
   "outputs": [],
   "source": [
    "%matplotlib inline\n",
    "\n",
    "import warnings\n",
    "warnings.filterwarnings(\"ignore\")\n",
    "\n",
    "import numpy as np\n",
    "from numpy import sqrt\n",
    "from itertools import cycle\n",
    "import matplotlib.pyplot as plt\n",
    "plt.rcParams['legend.fontsize'] = 8\n",
    "\n",
    "from sklearn.datasets import load_boston, load_breast_cancer\n",
    "from sklearn.model_selection import KFold, GridSearchCV\n",
    "from sklearn import preprocessing, metrics as m\n",
    "\n",
    "from sklearn.svm import SVC, SVR\n",
    "from sklearn.naive_bayes import GaussianNB\n",
    "from sklearn.neighbors import KNeighborsRegressor, KNeighborsClassifier\n",
    "from sklearn.linear_model import LinearRegression, SGDRegressor, LogisticRegression\n",
    "from sklearn.tree import DecisionTreeClassifier, DecisionTreeRegressor\n",
    "from sklearn.ensemble import RandomForestClassifier, RandomForestRegressor\n",
    "from sklearn.ensemble import GradientBoostingClassifier, GradientBoostingRegressor"
   ]
  },
  {
   "cell_type": "markdown",
   "metadata": {},
   "source": [
    "# 1. Use K-Fold Cross Validation com k = 5 para resolver os seguintes problemas de machine learning: "
   ]
  },
  {
   "cell_type": "markdown",
   "metadata": {},
   "source": [
    "## Regressão\n",
    "\n",
    "    Dataset: boston house-prices dataset\n",
    "    \n",
    "    Aplicar Standardization nas features.\n",
    "    \n",
    "    Comparar os resultados dos seguintes algoritmos: Gradient Descent, Linear Regression, kNN, Naive Bayes, SVM\n",
    "    \n",
    "    Usar as seguintes métricas: RMSE, MAE\n",
    "    \n",
    "    Escolher a melhor técnica e criar um modelo final usando todo o dataset para treinar o modelo."
   ]
  },
  {
   "cell_type": "code",
   "execution_count": 2,
   "metadata": {},
   "outputs": [],
   "source": [
    "X_boston, y_boston = load_boston(return_X_y=True)\n",
    "\n",
    "train = KFold(n_splits=5, shuffle=True, random_state=42)\n",
    "train.get_n_splits(X_boston, y_boston)\n",
    "\n",
    "std_scale = preprocessing.StandardScaler().fit(X_boston)\n",
    "X_boston_std = std_scale.transform(X_boston)"
   ]
  },
  {
   "cell_type": "code",
   "execution_count": 3,
   "metadata": {},
   "outputs": [],
   "source": [
    "rmse_sgd = []\n",
    "mae_sgd = []\n",
    "\n",
    "rmse_lr = []\n",
    "mae_lr = []\n",
    "\n",
    "rmse_knnR = []\n",
    "mae_knnR = []\n",
    "\n",
    "rmse_svr = []\n",
    "mae_svr = []\n",
    "\n",
    "for train_index, test_index in train.split(X_boston, y_boston):\n",
    "    #print(\"TRAIN:\", train_index, \"TEST:\", test_index)\n",
    "    X_train, X_test = X_boston[train_index], X_boston[test_index]\n",
    "    y_train, y_test = y_boston[train_index], y_boston[test_index]\n",
    "    \n",
    "    std_scale = preprocessing.StandardScaler().fit(X_train)\n",
    "    X_train_std = std_scale.transform(X_train)\n",
    "    X_test_std = std_scale.transform(X_test)\n",
    "    \n",
    "    # Gradient Descent\n",
    "    sgd = SGDRegressor(random_state=42).fit(X_train_std, y_train)\n",
    "    y_pred_sgd = sgd.predict(X_test_std)\n",
    "    rmse_sgd.append(sqrt(m.mean_squared_error(y_test, y_pred_sgd)))\n",
    "    mae_sgd.append(m.mean_absolute_error(y_test, y_pred_sgd))\n",
    "\n",
    "    # Linear Regression\n",
    "    lr = LinearRegression().fit(X_train_std, y_train)\n",
    "    y_pred_lr = lr.predict(X_test_std)\n",
    "    rmse_lr.append(sqrt(m.mean_squared_error(y_test, y_pred_lr)))\n",
    "    mae_lr.append(m.mean_absolute_error(y_test, y_pred_lr))\n",
    "\n",
    "    #KNN Regressor\n",
    "    knnR = KNeighborsRegressor().fit(X_train_std, y_train)\n",
    "    y_pred_knnR = knnR.predict(X_test_std)\n",
    "    rmse_knnR.append(sqrt(m.mean_squared_error(y_test, y_pred_knnR)))\n",
    "    mae_knnR.append(m.mean_absolute_error(y_test, y_pred_knnR))\n",
    "\n",
    "    #SVM\n",
    "    svr = SVR(kernel='linear', C=1, gamma='auto').fit(X_train_std, y_train)\n",
    "    y_pred_svr = svr.predict(X_test_std)\n",
    "    rmse_svr.append(sqrt(m.mean_squared_error(y_test, y_pred_svr)))\n",
    "    mae_svr.append(m.mean_absolute_error(y_test, y_pred_svr))    "
   ]
  },
  {
   "cell_type": "code",
   "execution_count": 4,
   "metadata": {},
   "outputs": [
    {
     "name": "stdout",
     "output_type": "stream",
     "text": [
      "Parametros do rfr {'max_depth': 7, 'n_estimators': 100}\n",
      "Parametros do gbr {'learning_rate': 0.05, 'max_depth': 3, 'n_estimators': 200}\n"
     ]
    }
   ],
   "source": [
    "n_estimators = [50, 100, 200]\n",
    "max_depth = [3, 5, 7]\n",
    "learning_rate = [ 0.1, 0.05, 0.01]\n",
    "\n",
    "param_grid = {'n_estimators': n_estimators, \n",
    "              'max_depth': max_depth}\n",
    "\n",
    "rfr = RandomForestRegressor(random_state=0)\n",
    "gs = GridSearchCV(estimator = rfr, param_grid = param_grid, \n",
    "                  scoring = 'neg_mean_squared_error', cv = 10, n_jobs = -1)\n",
    "gs = gs.fit(X_boston_std, y_boston)\n",
    "print(\"Parametros do rfr {}\".format(gs.best_params_))\n",
    "\n",
    "param_grid = {'n_estimators': n_estimators, \n",
    "              'max_depth': max_depth, \n",
    "              'learning_rate': learning_rate}\n",
    "\n",
    "gbr = GradientBoostingRegressor(random_state=0)\n",
    "gs = GridSearchCV(estimator = gbr, param_grid = param_grid, \n",
    "                  scoring = 'neg_mean_squared_error', cv = 10, n_jobs = -1)\n",
    "gs = gs.fit(X_boston_std, y_boston)\n",
    "print(\"Parametros do gbr {}\".format(gs.best_params_))"
   ]
  },
  {
   "cell_type": "code",
   "execution_count": 5,
   "metadata": {},
   "outputs": [],
   "source": [
    "rmse_dtr = []\n",
    "mae_dtr = []\n",
    "\n",
    "rmse_rfr = []\n",
    "mae_rfr = []\n",
    "\n",
    "rmse_gbr = []\n",
    "mae_gbr = []\n",
    "\n",
    "for train_index, test_index in train.split(X_boston, y_boston):\n",
    "    #print(\"TRAIN:\", train_index, \"TEST:\", test_index)\n",
    "    X_train, X_test = X_boston[train_index], X_boston[test_index]\n",
    "    y_train, y_test = y_boston[train_index], y_boston[test_index]\n",
    "    \n",
    "    std_scale = preprocessing.StandardScaler().fit(X_train)\n",
    "    X_train_std = std_scale.transform(X_train)\n",
    "    X_test_std = std_scale.transform(X_test)\n",
    "    \n",
    "    #DTR\n",
    "    dtr = DecisionTreeRegressor(random_state=0).fit(X_train_std, y_train)\n",
    "    y_pred_dtr = dtr.predict(X_test_std)\n",
    "    rmse_dtr.append(sqrt(m.mean_squared_error(y_test, y_pred_dtr)))\n",
    "    mae_dtr.append(m.mean_absolute_error(y_test, y_pred_dtr))\n",
    "    \n",
    "    #RFR\n",
    "    rfr = RandomForestRegressor(random_state=0, n_estimators=100, max_depth=7).fit(X_train_std, y_train)\n",
    "    y_pred_rfr = rfr.predict(X_test_std)\n",
    "    rmse_rfr.append(sqrt(m.mean_squared_error(y_test, y_pred_rfr)))\n",
    "    mae_rfr.append(m.mean_absolute_error(y_test, y_pred_rfr))    \n",
    "    \n",
    "    #GBR\n",
    "    gbr = GradientBoostingRegressor(random_state=0, learning_rate=0.05, \n",
    "                                    n_estimators=200, max_depth=3).fit(X_train_std, y_train)\n",
    "    y_pred_gbr = gbr.predict(X_test_std)\n",
    "    rmse_gbr.append(sqrt(m.mean_squared_error(y_test, y_pred_gbr)))\n",
    "    mae_gbr.append(m.mean_absolute_error(y_test, y_pred_gbr))  "
   ]
  },
  {
   "cell_type": "code",
   "execution_count": 6,
   "metadata": {},
   "outputs": [
    {
     "name": "stdout",
     "output_type": "stream",
     "text": [
      "SGD: RMSE = 4.9163171017969685 and MAE = 3.2950866497667617\n",
      "LiR: RMSE = 4.843271055765916 and MAE = 3.3907477744403764\n",
      "KnnR: RMSE = 4.560714535240072 and MAE = 2.872253154727237\n",
      "SVR: RMSE = 5.093940639009792 and MAE = 3.2510513362013045\n",
      "DTR: RMSE = 4.646264878379325 and MAE = 3.0289768976897693\n",
      "RFR: RMSE = 3.3197780575762983 and MAE = 2.2730748872017528\n",
      "GBR: RMSE = 2.9287938872795634 and MAE = 2.0702437871108748\n"
     ]
    },
    {
     "data": {
      "text/plain": [
       "<matplotlib.legend.Legend at 0x7efce0106c88>"
      ]
     },
     "execution_count": 6,
     "metadata": {},
     "output_type": "execute_result"
    },
    {
     "data": {
      "image/png": "[encoded data removed]",
      "text/plain": [
       "<matplotlib.figure.Figure at 0x7efce9bcf240>"
      ]
     },
     "metadata": {},
     "output_type": "display_data"
    }
   ],
   "source": [
    "class_names = ['SGD','LiR','KnnR','SVR', 'DTR','RFR','GBR']\n",
    "class_ = [np.mean(rmse_sgd), np.mean(rmse_lr), np.mean(rmse_knnR), \n",
    "          np.mean(rmse_svr), np.mean(rmse_dtr), np.mean(rmse_rfr), np.mean(rmse_gbr)]\n",
    "class_1 = [np.mean(mae_sgd), np.mean(mae_lr), np.mean(mae_knnR), \n",
    "           np.mean(mae_svr), np.mean(mae_dtr), np.mean(mae_rfr), np.mean(mae_gbr)]\n",
    "\n",
    "for i in range(0,len(class_names)):\n",
    "    print(\"{}: RMSE = {} and MAE = {}\".format(class_names[i], class_[i], class_1[i]))\n",
    "\n",
    "grupos = len(class_names) #definir quantidade de barras\n",
    "indice = np.arange(grupos) #não sei\n",
    "bar_larg = 0.3 # largura da barra\n",
    "transp = 0.7 #não sei\n",
    "\n",
    "plt.grid() #plota a grade do fundo\n",
    "plt.bar(indice, class_, bar_larg, alpha=transp, color='pink', label='rmse') \n",
    "#plotar uma barra correspondente ao rmse (indice indica onde que começa no gráfico, \n",
    "#passando o class_ ele cria uma barra dessa pra cada valor no array), bar_larg a largura da barra, \n",
    "#não sei o que é o alpha(tem na documentação), a cor e o label\n",
    "plt.bar(indice + bar_larg, class_1, bar_larg, alpha=transp, color='purple', label='mae')\n",
    "#mesma coisa de cima, sendo que cria a barra começando do indice + bar_larg pra ficar ao lado\n",
    "plt.xticks(indice + bar_larg / 2, class_names) # altera a largura e quantidade desses traços verticais da grade\n",
    "plt.legend() # plota a legenda"
   ]
  },
  {
   "cell_type": "code",
   "execution_count": 7,
   "metadata": {},
   "outputs": [
    {
     "name": "stdout",
     "output_type": "stream",
     "text": [
      "Feature ranking:\n",
      "1. feature 5 (0.232363)\n",
      "2. feature 12 (0.143724)\n",
      "3. feature 7 (0.133069)\n",
      "4. feature 6 (0.086427)\n",
      "5. feature 0 (0.084711)\n",
      "6. feature 9 (0.069298)\n",
      "7. feature 11 (0.066305)\n",
      "8. feature 4 (0.059855)\n",
      "9. feature 10 (0.051818)\n",
      "10. feature 2 (0.040015)\n",
      "11. feature 8 (0.013287)\n",
      "12. feature 1 (0.010880)\n",
      "13. feature 3 (0.008248)\n"
     ]
    },
    {
     "data": {
      "image/png": "[encoded data removed]",
      "text/plain": [
       "<matplotlib.figure.Figure at 0x7efce0032048>"
      ]
     },
     "metadata": {},
     "output_type": "display_data"
    }
   ],
   "source": [
    "gbr_final = GradientBoostingRegressor(random_state=0, learning_rate=0.05, \n",
    "                                    n_estimators=200, max_depth=3).fit(X_boston, y_boston)\n",
    "\n",
    "importances = gbr_final.feature_importances_\n",
    "std = np.std([tree[0].feature_importances_ for tree in gbr_final.estimators_], axis=0)\n",
    "indices = np.argsort(importances)[::-1]\n",
    "\n",
    "# Print the feature ranking\n",
    "print(\"Feature ranking:\")\n",
    "\n",
    "for f in range(X_boston.shape[1]):\n",
    "    print(\"%d. feature %d (%f)\" % (f + 1, indices[f], importances[indices[f]]))\n",
    "\n",
    "# Plot the feature importances of the forest\n",
    "plt.figure(figsize=(12,8))\n",
    "plt.title(\"Feature importances\")\n",
    "plt.bar(range(X_boston.shape[1]), importances[indices],\n",
    "       color=\"r\", yerr=std[indices], align=\"center\")\n",
    "plt.xticks(range(X_boston.shape[1]), indices)\n",
    "plt.xlim([-1, X_boston.shape[1]])\n",
    "plt.show()"
   ]
  },
  {
   "cell_type": "markdown",
   "metadata": {},
   "source": [
    "## Classificação\n",
    "\n",
    "    Dataset: breast cancer wisconsin dataset\n",
    "    \n",
    "    Aplicar Normalization nas features.\n",
    "    \n",
    "    Comparar os resultados dos seguintes algoritmos: Logistic Regression, kNN, Naive Bayes, SVM\n",
    "    \n",
    "    Mostrar a matriz de confusão\n",
    "    \n",
    "    Usar as seguintes métricas: Accuracy, Precision, Recall, F1-Measure, AOC\n",
    "    \n",
    "    Plotar curva ROC dos diferentes algoritmos.\n",
    "    \n",
    "    Escolher a melhor técnica e criar um modelo final usando todo o dataset para treinar o modelo."
   ]
  },
  {
   "cell_type": "code",
   "execution_count": 8,
   "metadata": {
    "collapsed": true
   },
   "outputs": [],
   "source": [
    "X_cancer, y_cancer = load_breast_cancer(return_X_y=True)\n",
    "\n",
    "train = KFold(n_splits=5, shuffle=True, random_state=42)\n",
    "train.get_n_splits(X_cancer, y_cancer)\n",
    "\n",
    "norm_scale = preprocessing.MinMaxScaler().fit(X_cancer)\n",
    "X_cancer_norm = norm_scale.transform(X_cancer)"
   ]
  },
  {
   "cell_type": "code",
   "execution_count": 9,
   "metadata": {},
   "outputs": [],
   "source": [
    "acc_logR = []\n",
    "pre_logR = []\n",
    "rec_logR = []\n",
    "f1_logR = []\n",
    "\n",
    "acc_knnC = []\n",
    "pre_knnC = []\n",
    "rec_knnC = []\n",
    "f1_knnC = []\n",
    "\n",
    "acc_gnb = []\n",
    "pre_gnb = []\n",
    "rec_gnb = []\n",
    "f1_gnb = []\n",
    "\n",
    "acc_svc = []\n",
    "pre_svc = []\n",
    "rec_svc = []\n",
    "f1_svc = []\n",
    "\n",
    "for train_index, test_index in train.split(X_cancer, y_cancer):\n",
    "    #print(\"TRAIN:\", train_index, \"TEST:\", test_index)\n",
    "    X_train2, X_test2 = X_cancer[train_index], X_cancer[test_index]\n",
    "    y_train2, y_test2 = y_cancer[train_index], y_cancer[test_index]\n",
    "    \n",
    "    norm_scale = preprocessing.MinMaxScaler().fit(X_train2)\n",
    "    X_train2_norm = norm_scale.transform(X_train2)\n",
    "    X_test2_norm = norm_scale.transform(X_test2)\n",
    "    \n",
    "    # Logistic Regression\n",
    "    logR = LogisticRegression().fit(X_train2_norm, y_train2)\n",
    "    y_pred_logR = logR.predict(X_test2_norm)\n",
    "    acc_logR.append(m.accuracy_score(y_test2, y_pred_logR))\n",
    "    pre_logR.append(m.precision_score(y_test2, y_pred_logR))\n",
    "    rec_logR.append(m.recall_score(y_test2, y_pred_logR))\n",
    "    f1_logR.append(m.f1_score(y_test2, y_pred_logR))\n",
    "\n",
    "    #KNN Classifier\n",
    "    knnC = KNeighborsClassifier().fit(X_train2_norm, y_train2)\n",
    "    y_pred_knnC = knnC.predict(X_test2_norm)\n",
    "    acc_knnC.append(m.accuracy_score(y_test2, y_pred_knnC))\n",
    "    pre_knnC.append(m.precision_score(y_test2, y_pred_knnC))\n",
    "    rec_knnC.append(m.recall_score(y_test2, y_pred_knnC))\n",
    "    f1_knnC.append(m.f1_score(y_test2, y_pred_knnC))\n",
    "    \n",
    "    #Naive Bayes\n",
    "    gnb = GaussianNB().fit(X_train2_norm, y_train2)\n",
    "    y_pred_gnb = gnb.predict(X_test2_norm)\n",
    "    acc_gnb.append(m.accuracy_score(y_test2, y_pred_gnb))\n",
    "    pre_gnb.append(m.precision_score(y_test2, y_pred_gnb))\n",
    "    rec_gnb.append(m.recall_score(y_test2, y_pred_gnb))\n",
    "    f1_gnb.append(m.f1_score(y_test2, y_pred_gnb))\n",
    "    \n",
    "    #SVM\n",
    "    svc = SVC(kernel='linear', C=1, gamma='auto').fit(X_train2_norm, y_train2)\n",
    "    y_pred_svc = svc.predict(X_test2_norm)\n",
    "    acc_svc.append(m.accuracy_score(y_test2, y_pred_svc))\n",
    "    pre_svc.append(m.precision_score(y_test2, y_pred_svc))\n",
    "    rec_svc.append(m.recall_score(y_test2, y_pred_svc))\n",
    "    f1_svc.append(m.f1_score(y_test2, y_pred_svc))"
   ]
  },
  {
   "cell_type": "code",
   "execution_count": 10,
   "metadata": {},
   "outputs": [
    {
     "name": "stdout",
     "output_type": "stream",
     "text": [
      "Parametros do rfc {'max_depth': 7, 'n_estimators': 100}\n",
      "Parametros do gbc {'learning_rate': 0.05, 'max_depth': 3, 'n_estimators': 200}\n"
     ]
    }
   ],
   "source": [
    "n_estimators = [50, 100, 200]\n",
    "max_depth = [3, 5, 7]\n",
    "learning_rate = [ 0.1, 0.05, 0.01]\n",
    "\n",
    "param_grid = {'n_estimators': n_estimators, \n",
    "              'max_depth': max_depth}\n",
    "\n",
    "rfc = RandomForestClassifier(random_state=0)\n",
    "gs = GridSearchCV(estimator = rfr, param_grid = param_grid, \n",
    "                  scoring = 'neg_mean_squared_error', cv = 10, n_jobs = -1)\n",
    "gs = gs.fit(X_boston_std, y_boston)\n",
    "print(\"Parametros do rfc {}\".format(gs.best_params_))\n",
    "\n",
    "param_grid = {'n_estimators': n_estimators, \n",
    "              'max_depth': max_depth, \n",
    "              'learning_rate': learning_rate}\n",
    "\n",
    "gbc = GradientBoostingClassifier(random_state=0)\n",
    "gs = GridSearchCV(estimator = gbr, param_grid = param_grid, \n",
    "                  scoring = 'neg_mean_squared_error', cv = 10, n_jobs = -1)\n",
    "gs = gs.fit(X_boston_std, y_boston)\n",
    "print(\"Parametros do gbc {}\".format(gs.best_params_))"
   ]
  },
  {
   "cell_type": "code",
   "execution_count": 11,
   "metadata": {
    "collapsed": true
   },
   "outputs": [],
   "source": [
    "acc_dtc = []\n",
    "pre_dtc = []\n",
    "rec_dtc = []\n",
    "f1_dtc = []\n",
    "\n",
    "acc_rfc = []\n",
    "pre_rfc = []\n",
    "rec_rfc = []\n",
    "f1_rfc = []\n",
    "\n",
    "acc_gbc = []\n",
    "pre_gbc = []\n",
    "rec_gbc = []\n",
    "f1_gbc = []\n",
    "\n",
    "for train_index, test_index in train.split(X_cancer, y_cancer):\n",
    "    #print(\"TRAIN:\", train_index, \"TEST:\", test_index)\n",
    "    X_train2, X_test2 = X_cancer[train_index], X_cancer[test_index]\n",
    "    y_train2, y_test2 = y_cancer[train_index], y_cancer[test_index]\n",
    "    \n",
    "    norm_scale = preprocessing.MinMaxScaler().fit(X_train2)\n",
    "    X_train2_norm = norm_scale.transform(X_train2)\n",
    "    X_test2_norm = norm_scale.transform(X_test2)\n",
    "    \n",
    "    #DTC\n",
    "    dtc = DecisionTreeClassifier(random_state=0).fit(X_train2_norm, y_train2)\n",
    "    y_pred_dtc = dtc.predict(X_test2_norm)\n",
    "    acc_dtc.append(m.accuracy_score(y_test2, y_pred_dtc))\n",
    "    pre_dtc.append(m.precision_score(y_test2, y_pred_dtc))\n",
    "    rec_dtc.append(m.recall_score(y_test2, y_pred_dtc))\n",
    "    f1_dtc.append(m.f1_score(y_test2, y_pred_dtc))\n",
    "    \n",
    "    #RFC\n",
    "    rfc = RandomForestClassifier(random_state=0, n_estimators=100, max_depth=7).fit(X_train2_norm, y_train2)\n",
    "    y_pred_rfc = rfc.predict(X_test2_norm)\n",
    "    acc_rfc.append(m.accuracy_score(y_test2, y_pred_rfc))\n",
    "    pre_rfc.append(m.precision_score(y_test2, y_pred_rfc))\n",
    "    rec_rfc.append(m.recall_score(y_test2, y_pred_rfc))\n",
    "    f1_rfc.append(m.f1_score(y_test2, y_pred_rfc))  \n",
    "    \n",
    "    #GBC\n",
    "    gbc = GradientBoostingClassifier(random_state=0, learning_rate=0.05, \n",
    "                                    n_estimators=200, max_depth=3).fit(X_train2_norm, y_train2)\n",
    "    y_pred_gbc = gbc.predict(X_test2_norm)\n",
    "    acc_gbc.append(m.accuracy_score(y_test2, y_pred_gbc))\n",
    "    pre_gbc.append(m.precision_score(y_test2, y_pred_gbc))\n",
    "    rec_gbc.append(m.recall_score(y_test2, y_pred_gbc))\n",
    "    f1_gbc.append(m.f1_score(y_test2, y_pred_gbc))"
   ]
  },
  {
   "cell_type": "code",
   "execution_count": 12,
   "metadata": {},
   "outputs": [
    {
     "name": "stdout",
     "output_type": "stream",
     "text": [
      "LogR: \n",
      " ACC = 0.95954044403043 \n",
      " PRE = 0.9439005587866347 \n",
      " REC = 0.9945856959941466 \n",
      " F1 = 0.9684287820441952 \n",
      "\n",
      "KnnC: \n",
      " ACC = 0.964803601925167 \n",
      " PRE = 0.9589076617245633 \n",
      " REC = 0.9859668185503796 \n",
      " F1 = 0.972089551764833 \n",
      "\n",
      "GNB: \n",
      " ACC = 0.9367179009470579 \n",
      " PRE = 0.9420830389692154 \n",
      " REC = 0.95850762649165 \n",
      " F1 = 0.9500453465382451 \n",
      "\n",
      "SVC: \n",
      " ACC = 0.9789007918025151 \n",
      " PRE = 0.9697641566134717 \n",
      " REC = 0.9974025974025974 \n",
      " F1 = 0.9833295487687636 \n",
      "\n",
      "DTC: \n",
      " ACC = 0.9332557056357708 \n",
      " PRE = 0.9443378046054102 \n",
      " REC = 0.9506127675141759 \n",
      " F1 = 0.9471835713770513 \n",
      "\n",
      "RFC: \n",
      " ACC = 0.9613414066138798 \n",
      " PRE = 0.9612599679186934 \n",
      " REC = 0.9775161143250275 \n",
      " F1 = 0.969217317910512 \n",
      "\n",
      "GBC: \n",
      " ACC = 0.9630957925787922 \n",
      " PRE = 0.9641856015934167 \n",
      " REC = 0.9775161143250275 \n",
      " F1 = 0.9707481087956683 \n",
      "\n"
     ]
    },
    {
     "data": {
      "text/plain": [
       "<matplotlib.legend.Legend at 0x7efcd3fd0a58>"
      ]
     },
     "execution_count": 12,
     "metadata": {},
     "output_type": "execute_result"
    },
    {
     "data": {
      "image/png": "[encoded data removed]",
      "text/plain": [
       "<matplotlib.figure.Figure at 0x7efcd3fd0400>"
      ]
     },
     "metadata": {},
     "output_type": "display_data"
    }
   ],
   "source": [
    "class_names2 = ['LogR','KnnC','GNB','SVC', 'DTC', 'RFC', 'GBC']\n",
    "class2_ = [np.mean(acc_logR), np.mean(acc_knnC), np.mean(acc_gnb), \n",
    "           np.mean(acc_svc), np.mean(acc_dtc), np.mean(acc_rfc), np.mean(acc_gbc)]\n",
    "class2_1 = [np.mean(pre_logR), np.mean(pre_knnC), np.mean(pre_gnb), \n",
    "            np.mean(pre_svc), np.mean(pre_dtc), np.mean(pre_rfc), np.mean(pre_gbc)]\n",
    "class2_2 = [np.mean(rec_logR), np.mean(rec_knnC), np.mean(rec_gnb), \n",
    "            np.mean(rec_svc), np.mean(rec_dtc), np.mean(rec_rfc), np.mean(rec_gbc)]\n",
    "class2_3 = [np.mean(f1_logR), np.mean(f1_knnC), np.mean(f1_gnb), \n",
    "            np.mean(f1_svc), np.mean(f1_dtc), np.mean(f1_rfc), np.mean(f1_gbc)]\n",
    "for i in range(len(class_names2)):\n",
    "    print(\"{}: \\n ACC = {} \\n PRE = {} \\n REC = {} \\n F1 = {} \\n\".format(class_names2[i], \n",
    "                                                                         class2_[i], \n",
    "                                                                         class2_1[i], \n",
    "                                                                         class2_2[i], \n",
    "                                                                         class2_3[i]))\n",
    "\n",
    "grupos = len(class_names2)\n",
    "indice = np.arange(grupos)\n",
    "bar_larg = 0.2\n",
    "transp = 0.7\n",
    "\n",
    "plt.grid()\n",
    "plt.bar(indice, class2_, bar_larg, alpha=transp, color='gold', label='acc')\n",
    "indice = indice + bar_larg\n",
    "plt.bar(indice, class2_1, bar_larg, alpha=transp, color='purple', label='pre')\n",
    "indice = indice + bar_larg\n",
    "plt.bar(indice, class2_2, bar_larg, alpha=transp, color='orange', label='rec')\n",
    "indice = indice + bar_larg\n",
    "plt.bar(indice, class2_3, bar_larg, alpha=transp, color='pink', label='f1')\n",
    "\n",
    "plt.xticks(indice - bar_larg * 3/2, class_names2)\n",
    "plt.legend()"
   ]
  },
  {
   "cell_type": "code",
   "execution_count": 13,
   "metadata": {},
   "outputs": [
    {
     "name": "stdout",
     "output_type": "stream",
     "text": [
      "Feature ranking:\n",
      "1. feature 23 (0.110547)\n",
      "2. feature 7 (0.108991)\n",
      "3. feature 22 (0.081866)\n",
      "4. feature 27 (0.081093)\n",
      "5. feature 20 (0.066462)\n",
      "6. feature 21 (0.066226)\n",
      "7. feature 13 (0.043333)\n",
      "8. feature 19 (0.035850)\n",
      "9. feature 1 (0.035668)\n",
      "10. feature 24 (0.035234)\n",
      "11. feature 3 (0.035117)\n",
      "12. feature 15 (0.033620)\n",
      "13. feature 5 (0.033237)\n"
     ]
    },
    {
     "data": {
      "image/png": "[encoded data removed]",
      "text/plain": [
       "<matplotlib.figure.Figure at 0x7efcd3fd0518>"
      ]
     },
     "metadata": {},
     "output_type": "display_data"
    }
   ],
   "source": [
    "gbc_final = GradientBoostingClassifier(random_state=0, learning_rate=0.05, \n",
    "                                    n_estimators=200, max_depth=3).fit(X_cancer, y_cancer)\n",
    "\n",
    "importances = gbc_final.feature_importances_\n",
    "std = np.std([tree[0].feature_importances_ for tree in gbc_final.estimators_], axis=0)\n",
    "indices = np.argsort(importances)[::-1]\n",
    "\n",
    "# Print the feature ranking\n",
    "print(\"Feature ranking:\")\n",
    "\n",
    "for f in range(X_boston.shape[1]):\n",
    "    print(\"%d. feature %d (%f)\" % (f + 1, indices[f], importances[indices[f]]))\n",
    "\n",
    "# Plot the feature importances of the forest\n",
    "plt.figure(figsize=(12,8))\n",
    "plt.title(\"Feature importances\")\n",
    "plt.bar(range(X_cancer.shape[1]), importances[indices],\n",
    "       color=\"r\", yerr=std[indices], align=\"center\")\n",
    "plt.xticks(range(X_cancer.shape[1]), indices)\n",
    "plt.xlim([-1, X_cancer.shape[1]])\n",
    "plt.show()"
   ]
  },
  {
   "cell_type": "markdown",
   "metadata": {},
   "source": [
    "Preencha seus resultados de RMSE (para o problema de regressão) e Accuracy (para o problema de classificação) na seguinte planilha online (https://docs.google.com/spreadsheets/d/1Zkm8q3uvkL-vCpiG2M-_s-K3j_3XK8zFLDZrtTqPImk/edit#gid=0)."
   ]
  }
 ],
 "metadata": {
  "kernelspec": {
   "display_name": "Python 3",
   "language": "python",
   "name": "python3"
  },
  "language_info": {
   "codemirror_mode": {
    "name": "ipython",
    "version": 3
   },
   "file_extension": ".py",
   "mimetype": "text/x-python",
   "name": "python",
   "nbconvert_exporter": "python",
   "pygments_lexer": "ipython3",
   "version": "3.6.3"
  }
 },
 "nbformat": 4,
 "nbformat_minor": 2
}
