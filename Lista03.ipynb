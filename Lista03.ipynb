{
 "cells": [
  {
   "cell_type": "code",
   "execution_count": 1,
   "metadata": {
    "collapsed": true
   },
   "outputs": [],
   "source": [
    "%matplotlib inline\n",
    "import numpy as np\n",
    "from Libs import stats as st, metrics as m, resample as r, linear_model as lm\n",
    "from sklearn import linear_model, metrics\n",
    "from math import sqrt"
   ]
  },
  {
   "cell_type": "markdown",
   "metadata": {},
   "source": [
    "# 2. a) a) Represente os dados a seguir:\n",
    "\n",
    "https://www.kdnuggets.com/wp-content/uploads/historical-housing-data.png"
   ]
  },
  {
   "cell_type": "code",
   "execution_count": 2,
   "metadata": {
    "collapsed": true
   },
   "outputs": [],
   "source": [
    "data = np.array([[1400, 245.000], [1600, 312.000], [1700, 279.000], [1875, 308.000], [1100, 199.000], \n",
    "                   [1550, 219.000], [2350, 405.000], [2450, 324.000], [1425, 319.000], [1700, 255.000]])"
   ]
  },
  {
   "cell_type": "markdown",
   "metadata": {},
   "source": [
    "# 2. b) Calcule média, desvio padrão e variância de X."
   ]
  },
  {
   "cell_type": "code",
   "execution_count": 3,
   "metadata": {},
   "outputs": [
    {
     "data": {
      "text/plain": [
       "(array([ 1400.,  1600.,  1700.,  1875.,  1100.,  1550.,  2350.,  2450.,\n",
       "         1425.,  1700.]),\n",
       " array([ 245.,  312.,  279.,  308.,  199.,  219.,  405.,  324.,  319.,  255.]))"
      ]
     },
     "execution_count": 3,
     "metadata": {},
     "output_type": "execute_result"
    }
   ],
   "source": [
    "X = data[:, 0]\n",
    "y = data[:, 1]\n",
    "\n",
    "X, y"
   ]
  },
  {
   "cell_type": "code",
   "execution_count": 4,
   "metadata": {},
   "outputs": [
    {
     "name": "stdout",
     "output_type": "stream",
     "text": [
      "Média = 1715.0\n",
      "Desvio padrão = 396.42149285829595\n",
      "Variância = 157150.0\n"
     ]
    }
   ],
   "source": [
    "print(\"Média = {}\".format(st.mean(X)))\n",
    "print(\"Desvio padrão = {}\".format(st.stdev(X)))\n",
    "print(\"Variância = {}\".format(st.var(X)))"
   ]
  },
  {
   "cell_type": "code",
   "execution_count": 5,
   "metadata": {},
   "outputs": [
    {
     "data": {
      "text/plain": [
       "(1715.0, 396.42149285829595, 157150.0)"
      ]
     },
     "execution_count": 5,
     "metadata": {},
     "output_type": "execute_result"
    }
   ],
   "source": [
    "# Teste\n",
    "np.mean(X), np.std(X), np.var(X)"
   ]
  },
  {
   "cell_type": "markdown",
   "metadata": {},
   "source": [
    "# 2. c) Divida os dados X, y para 70% de treino e 30% de teste. O resultado deve estar nas variáveis: X_train, y_train, X_test, y_test.\n",
    "## Dicas: \n",
    "### X_train = X[idx_train], onde idx_train é um array com os índices dos dados de treino.\n",
    "### y_train = y[idx_train]\n",
    "### X_test = X[idx_test]\n",
    "### y_test = y[idx_test]"
   ]
  },
  {
   "cell_type": "code",
   "execution_count": 6,
   "metadata": {},
   "outputs": [
    {
     "data": {
      "text/plain": [
       "([2, 8, 4, 9, 1, 6, 7], [3, 0, 5])"
      ]
     },
     "execution_count": 6,
     "metadata": {},
     "output_type": "execute_result"
    }
   ],
   "source": [
    "idx_train, idx_test = r.split_train_test(len(X), 0.7, 0)\n",
    "\n",
    "idx_train, idx_test"
   ]
  },
  {
   "cell_type": "code",
   "execution_count": 7,
   "metadata": {},
   "outputs": [
    {
     "data": {
      "text/plain": [
       "(array([ 279.,  319.,  199.,  255.,  312.,  405.,  324.]),\n",
       " array([ 1875.,  1400.,  1550.]),\n",
       " array([ 308.,  245.,  219.]))"
      ]
     },
     "execution_count": 7,
     "metadata": {},
     "output_type": "execute_result"
    }
   ],
   "source": [
    "X_train = X[idx_train]\n",
    "y_train = y[idx_train]\n",
    "X_test = X[idx_test]\n",
    "y_test = y[idx_test]\n",
    "\n",
    "y_train, X_test, y_test"
   ]
  },
  {
   "cell_type": "markdown",
   "metadata": {},
   "source": [
    "# 2. d) Crie um modelo de (1) SimpleLinearRegression (sua implementação) e outro modelo usando (2) LinearRegression do Scikit Learn."
   ]
  },
  {
   "cell_type": "code",
   "execution_count": 8,
   "metadata": {
    "collapsed": true
   },
   "outputs": [],
   "source": [
    "model1 = lm.SimpleLinearRegression()\n",
    "model2 = linear_model.LinearRegression()"
   ]
  },
  {
   "cell_type": "markdown",
   "metadata": {},
   "source": [
    "# 2. e) Treine os modelos com os dados de treino (X_train, y_train)."
   ]
  },
  {
   "cell_type": "code",
   "execution_count": 9,
   "metadata": {},
   "outputs": [
    {
     "data": {
      "text/plain": [
       "(122.46752256260331, 0.10026185331130034)"
      ]
     },
     "execution_count": 9,
     "metadata": {},
     "output_type": "execute_result"
    }
   ],
   "source": [
    "model1.fit(X_train, y_train)\n",
    "b0_1 = model1.b0\n",
    "b1_1 = model1.b1\n",
    "\n",
    "b0_1, b1_1"
   ]
  },
  {
   "cell_type": "code",
   "execution_count": 10,
   "metadata": {},
   "outputs": [
    {
     "data": {
      "text/plain": [
       "(122.46752256260328, 0.10026185331130037)"
      ]
     },
     "execution_count": 10,
     "metadata": {},
     "output_type": "execute_result"
    }
   ],
   "source": [
    "X_train2 = [[i] for i in X_train]\n",
    "model2.fit(X_train2, y_train)\n",
    "b1_2 = model2.coef_\n",
    "b0_2 = model2.intercept_\n",
    "\n",
    "b0_2, b1_2[0]"
   ]
  },
  {
   "cell_type": "markdown",
   "metadata": {},
   "source": [
    "# 2. f) Faça as predições para os modelos usando os dados de teste (X_test)."
   ]
  },
  {
   "cell_type": "code",
   "execution_count": 11,
   "metadata": {},
   "outputs": [
    {
     "data": {
      "text/plain": [
       "(array([ 1875.,  1400.,  1550.]),\n",
       " array([ 310.45849752,  262.8341172 ,  277.8733952 ]))"
      ]
     },
     "execution_count": 11,
     "metadata": {},
     "output_type": "execute_result"
    }
   ],
   "source": [
    "y_pred = model1.predict(X_test)\n",
    "\n",
    "X_test, y_pred"
   ]
  },
  {
   "cell_type": "code",
   "execution_count": 12,
   "metadata": {},
   "outputs": [
    {
     "data": {
      "text/plain": [
       "([[1875.0], [1400.0], [1550.0]],\n",
       " array([ 310.45849752,  262.8341172 ,  277.8733952 ]))"
      ]
     },
     "execution_count": 12,
     "metadata": {},
     "output_type": "execute_result"
    }
   ],
   "source": [
    "X_test2 = [[i] for i in X_test]\n",
    "y_pred2 = model2.predict(X_test2)\n",
    "\n",
    "X_test2, y_pred2"
   ]
  },
  {
   "cell_type": "markdown",
   "metadata": {},
   "source": [
    "# 2. g) Calcule as métricas MSE, RMSE e MAE para avaliar os modelos criados comparando os rótulos dos dados de teste (y_test) com os dados preditos (y_pred)."
   ]
  },
  {
   "cell_type": "code",
   "execution_count": 13,
   "metadata": {},
   "outputs": [
    {
     "data": {
      "text/plain": [
       "(1263.3922027033184, 35.544228824146941, 26.388669971611364)"
      ]
     },
     "execution_count": 13,
     "metadata": {},
     "output_type": "execute_result"
    }
   ],
   "source": [
    "mse = m.mse(y_test, y_pred)\n",
    "rmse = m.rmse(y_test, y_pred)\n",
    "mae = m.mae(y_test, y_pred)\n",
    "\n",
    "mse, rmse, mae"
   ]
  },
  {
   "cell_type": "code",
   "execution_count": 14,
   "metadata": {},
   "outputs": [
    {
     "data": {
      "text/plain": [
       "(1263.3922027033184, 35.54422882414694, 26.388669971611364)"
      ]
     },
     "execution_count": 14,
     "metadata": {},
     "output_type": "execute_result"
    }
   ],
   "source": [
    "mse_2 = metrics.mean_squared_error(y_test, y_pred2)\n",
    "rmse_2 = sqrt(metrics.mean_squared_error(y_test, y_pred2))\n",
    "mae_2 = metrics.mean_absolute_error(y_test, y_pred2)\n",
    "\n",
    "mse_2, rmse_2, mae_2"
   ]
  }
 ],
 "metadata": {
  "kernelspec": {
   "display_name": "Python 3",
   "language": "python",
   "name": "python3"
  },
  "language_info": {
   "codemirror_mode": {
    "name": "ipython",
    "version": 3
   },
   "file_extension": ".py",
   "mimetype": "text/x-python",
   "name": "python",
   "nbconvert_exporter": "python",
   "pygments_lexer": "ipython3",
   "version": "3.6.3"
  }
 },
 "nbformat": 4,
 "nbformat_minor": 2
}
